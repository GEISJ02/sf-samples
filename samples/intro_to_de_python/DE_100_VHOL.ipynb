{
 "metadata": {
  "kernelspec": {
   "display_name": "Streamlit Notebook",
   "name": "streamlit"
  },
  "lastEditStatus": {
   "notebookId": "hoyshmnwsgkxbhq7lobq",
   "authorId": "1814209416937",
   "authorName": "VINOD",
   "authorEmail": "vino.duraisamy@snowflake.com",
   "sessionId": "bb26d227-f4d4-471b-95aa-19fa230f2666",
   "lastEditTime": 1746552693809
  }
 },
 "nbformat_minor": 5,
 "nbformat": 4,
 "cells": [
  {
   "cell_type": "code",
   "id": "3775908f-ca36-4846-8f38-5adca39217f2",
   "metadata": {
    "language": "python",
    "name": "imports"
   },
   "source": "# Snowpark Pandas API\nimport modin.pandas as spd\n# Import the Snowpark pandas plugin for modin\nimport snowflake.snowpark.modin.plugin\n\nimport snowflake.snowpark.functions as F\nfrom snowflake.snowpark.context import get_active_session",
   "execution_count": null,
   "outputs": []
  },
  {
   "cell_type": "code",
   "id": "8d50cbf4-0c8d-4950-86cb-114990437ac9",
   "metadata": {
    "language": "python",
    "name": "snowpark_session"
   },
   "source": "# Create a snowpark session\nsession = get_active_session()\n# Add a query tag to the session for troubleshooting and monitoring\nsession.query_tag = {\"origin\":\"sf_devrel\", \n                     \"name\":\"de_100_vhol\", \n                     \"version\":{\"major\":1, \"minor\":0},\n                     \"attributes\":{\"is_quickstart\":1, \"source\":\"notebook\", \"vignette\":\"snowpark_pandas\"}}\n",
   "execution_count": null,
   "outputs": []
  },
  {
   "cell_type": "code",
   "id": "db98d82e-5259-4e73-aabe-79bbb2b59c38",
   "metadata": {
    "language": "python",
    "name": "shipping_logs"
   },
   "outputs": [],
   "source": "shipping_logs_mdf = spd.read_csv('shipping-logs.csv',\n                               parse_dates=['shipping_date'])\nshipping_logs_mdf",
   "execution_count": null
  },
  {
   "cell_type": "code",
   "id": "17be293e-956d-4781-be26-bbbdd94afc97",
   "metadata": {
    "language": "python",
    "name": "order_history"
   },
   "outputs": [],
   "source": "order_history_mdf = spd.read_csv('order-history.csv',\n                               parse_dates=['Date'])\norder_history_mdf",
   "execution_count": null
  },
  {
   "cell_type": "code",
   "id": "3f87b19c-07ca-4bec-8779-d6396126179b",
   "metadata": {
    "language": "python",
    "name": "rename_columns"
   },
   "outputs": [],
   "source": "order_history_mdf = order_history_mdf.rename(columns = {'Order ID': 'order_id',\n                                                      'Customer ID': 'customer_id',\n                                                      'Product ID': 'product_id',\n                                                      'Product Name': 'product_name',\n                                                      'Quantity Ordered': 'quantity_ordered',\n                                                      'Price': 'price',\n                                                      'Total Price': 'total_price',\n                                                     'Date': 'date'})\n\norder_history_mdf.columns",
   "execution_count": null
  },
  {
   "cell_type": "code",
   "id": "05b710b6-cee7-478e-9870-c2dd5c3119f8",
   "metadata": {
    "language": "python",
    "name": "clean_price_func"
   },
   "outputs": [],
   "source": "def clean_price(price_str):\n    # Remove $ sign and any whitespace\n    cleaned = price_str.replace('$', '').strip()\n    # Convert to float\n    return float(cleaned)",
   "execution_count": null
  },
  {
   "cell_type": "code",
   "id": "db2da873-f6ed-4e62-9518-845dc99e5ac9",
   "metadata": {
    "language": "python",
    "name": "clean_up_price_values"
   },
   "outputs": [],
   "source": "# Apply cleaning to price columns\norder_history_mdf['price'] = order_history_mdf['price'].apply(clean_price)\norder_history_mdf['total_price'] = order_history_mdf['total_price'].apply(clean_price)\n\n# Verify the cleaning\nprint(\"\\nPrice column data type:\", order_history_mdf['price'].dtype)\nprint(\"Total price column data type:\", order_history_mdf['total_price'].dtype)",
   "execution_count": null
  },
  {
   "cell_type": "code",
   "id": "8ec8cd02-16c1-4999-8870-da25c1281f27",
   "metadata": {
    "language": "python",
    "name": "join_tables"
   },
   "outputs": [],
   "source": "order_shipping_mdf = spd.merge(\n    order_history_mdf,\n    shipping_logs_mdf,\n    on='order_id',\n    how='inner'\n)\norder_shipping_mdf.head(5)",
   "execution_count": null
  },
  {
   "cell_type": "code",
   "id": "1eb33443-f7c3-41a5-acfe-6cbe634ab990",
   "metadata": {
    "language": "python",
    "name": "product_order_counts"
   },
   "outputs": [],
   "source": "# Group by product name and count orders\nproduct_counts_mdf = order_shipping_mdf.groupby('product_name').size().reset_index(name='order_count')\n\n# Sort by order count in descending order\nproduct_counts_mdf = product_counts_mdf.sort_values('order_count', ascending=False)\n\n# Display the results\nprint(\"\\nProduct Order Counts:\")\nprint(product_counts_mdf)",
   "execution_count": null
  },
  {
   "cell_type": "code",
   "id": "d803b11b-55e1-4b44-869f-e67d3c95639c",
   "metadata": {
    "language": "python",
    "name": "product_status_pivot"
   },
   "outputs": [],
   "source": "product_status_pivot_mdf = order_shipping_mdf.pivot_table(\n    index='product_name',\n    columns='status',\n    values='order_id',\n    aggfunc='count',\n    fill_value=0\n)\n\n# Add a total column\nproduct_status_pivot_mdf['Total_Orders'] = product_status_pivot_mdf.sum(axis=1)\n\n# Sort by total orders in descending order\nproduct_status_pivot_mdf = product_status_pivot_mdf.sort_values('Total_Orders', ascending=False)\n\n# Display the results\nprint(\"\\nProduct Orders by Status:\")\nprint(product_status_pivot_mdf)",
   "execution_count": null
  },
  {
   "cell_type": "code",
   "id": "700a31fe-3a77-4966-bfef-c29cb3c1fe1a",
   "metadata": {
    "language": "sql",
    "name": "create_snowflake_objects"
   },
   "outputs": [],
   "source": "-- Create the avalanche database and schema\nCREATE OR REPLACE DATABASE avalanche_test_db;\nCREATE OR REPLACE SCHEMA avalanche_test_schema;\n\nUSE DATABASE avalanche_test_db;\nUSE SCHEMA avalanche_test_schema;\n\n-- Create the stage for storing our files\nCREATE OR REPLACE STAGE avalanche_stage\n  URL = 's3://sfquickstarts/misc/avalanche/csv/'\n  DIRECTORY = (ENABLE = TRUE AUTO_REFRESH = TRUE);\n\nls @avalanche_stage;\n",
   "execution_count": null
  },
  {
   "cell_type": "code",
   "id": "4903c319-f55a-4773-8e58-daaec82f72d3",
   "metadata": {
    "language": "sql",
    "name": "create_customer_reviews_table"
   },
   "outputs": [],
   "source": "CREATE OR REPLACE TABLE customer_reviews (\n    product VARCHAR,\n    date DATE,\n    summary TEXT,\n    sentiment_score FLOAT\n);\n\n-- Load customer reviews\nCOPY INTO customer_reviews\nFROM @avalanche_stage/customer_reviews.csv\nFILE_FORMAT = (\n    TYPE = CSV\n    FIELD_DELIMITER = ','\n    SKIP_HEADER = 1\n    FIELD_OPTIONALLY_ENCLOSED_BY = '\"'\n    TRIM_SPACE = TRUE\n    NULL_IF = ('NULL', 'null')\n    EMPTY_FIELD_AS_NULL = TRUE\n);",
   "execution_count": null
  },
  {
   "cell_type": "code",
   "id": "d558d8e0-c499-4ae5-9ca0-85497fedc71a",
   "metadata": {
    "language": "python",
    "name": "load_customer_reviews"
   },
   "outputs": [],
   "source": "customer_reviews_sdf = session.table('customer_reviews')\ncustomer_reviews_sdf",
   "execution_count": null
  },
  {
   "cell_type": "code",
   "id": "4b09a69e-dec8-491e-a781-bed814e7ff76",
   "metadata": {
    "language": "python",
    "name": "calc_product_sentiment"
   },
   "outputs": [],
   "source": "product_sentiment_sdf = customer_reviews_sdf.group_by('PRODUCT') \\\n    .agg(F.round(F.avg('SENTIMENT_SCORE'),2).alias('AVG_SENTIMENT_SCORE')) \\\n    .sort(F.col('AVG_SENTIMENT_SCORE').desc())\n\n# Display the results\nprint(\"\\nAverage Sentiment Scores by Product:\")\nproduct_sentiment_sdf.show()",
   "execution_count": null
  },
  {
   "cell_type": "code",
   "id": "6a36c9e6-66e3-4e91-b57b-5f5123680ee3",
   "metadata": {
    "language": "python",
    "name": "save_product_sentiment"
   },
   "outputs": [],
   "source": "product_sentiment_sdf.write.save_as_table('PRODUCT_SENTIMENT_ANALYSIS', mode='overwrite')",
   "execution_count": null
  },
  {
   "cell_type": "code",
   "id": "58992757-6c5e-4de7-b8ee-041ff098ec7d",
   "metadata": {
    "language": "sql",
    "name": "create_task"
   },
   "outputs": [],
   "source": "-- Create the task\nCREATE OR REPLACE TASK avalanche_analysis_task\n    WAREHOUSE = COMPUTE_WH\n    SCHEDULE = 'USING CRON 0 0 * * * America/New_York'  -- Runs daily at midnight\n    AS\nBEGIN\n    -- Create database and schema if they don't exist\n    CREATE DATABASE IF NOT EXISTS avalanche_test_db;\n    CREATE SCHEMA IF NOT EXISTS avalanche_test_db.avalanche_test_schema;\n    \n    -- Use the database and schema\n    USE DATABASE avalanche_test_db;\n    USE SCHEMA avalanche_test_schema;\n    \n    -- Create the stage for storing files\n    CREATE OR REPLACE STAGE avalanche_stage\n        URL = 's3://sfquickstarts/misc/avalanche/csv/'\n        DIRECTORY = (ENABLE = TRUE AUTO_REFRESH = TRUE);\n    \n    -- Create and load customer reviews table\n    CREATE OR REPLACE TABLE customer_reviews (\n        product VARCHAR,\n        date DATE,\n        summary TEXT,\n        sentiment_score FLOAT\n    );\n    \n    -- Load customer reviews\n    COPY INTO customer_reviews\n    FROM @avalanche_stage/customer_reviews.csv\n    FILE_FORMAT = (\n        TYPE = CSV\n        FIELD_DELIMITER = ','\n        SKIP_HEADER = 1\n        FIELD_OPTIONALLY_ENCLOSED_BY = '\"'\n        TRIM_SPACE = TRUE\n        NULL_IF = ('NULL', 'null')\n        EMPTY_FIELD_AS_NULL = TRUE\n    );\n    \n    -- Calculate and save product sentiment scores\n    CREATE OR REPLACE TABLE product_sentiment_analysis AS\n    SELECT \n        product,\n        ROUND(AVG(sentiment_score), 2) as avg_sentiment_score\n    FROM customer_reviews\n    GROUP BY product\n    ORDER BY avg_sentiment_score DESC;\nEND;",
   "execution_count": null
  },
  {
   "cell_type": "code",
   "id": "d53f6e6f-1eb2-449a-bf51-fd381aaab217",
   "metadata": {
    "language": "sql",
    "name": "resume_task"
   },
   "outputs": [],
   "source": "-- Enable the task\nALTER TASK avalanche_analysis_task RESUME;",
   "execution_count": null
  }
 ]
}